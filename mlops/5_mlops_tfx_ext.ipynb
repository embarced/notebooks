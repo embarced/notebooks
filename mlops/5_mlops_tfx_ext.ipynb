{
 "cells": [
  {
   "cell_type": "markdown",
   "metadata": {
    "id": "XdfXfXK2-CiG"
   },
   "source": [
    "# Adding TFX data validation, feature engineering and model analysis\n",
    "\n",
    "***WARNING:absl:Pusher is going to push the model without validation. Consider using Evaluator or InfraValidator in your pipeline.***\n",
    "\n",
    "Parts copied from https://www.tensorflow.org/tfx/guide#tfx_standard_components: \n",
    "1. **Basics:** https://colab.research.google.com/github/tensorflow/tfx/blob/master/docs/tutorials/tfx/penguin_simple.ipynb\n",
    "  * ExampleGen is the initial input component of a pipeline that ingests and optionally splits the input dataset: https://www.tensorflow.org/tfx/guide/examplegen\n",
    "  * Trainer trains the model: https://www.tensorflow.org/tfx/guide/trainer\n",
    "  * Pusher deploys the model on a serving infrastructure: https://www.tensorflow.org/tfx/guide/pusher\n",
    "1. **Data validation:** https://colab.research.google.com/github/tensorflow/tfx/blob/master/docs/tutorials/tfx/penguin_tfdv.ipynb\n",
    "  * https://www.tensorflow.org/tfx/guide/tfdv\n",
    "  * StatisticsGen calculates statistics for the dataset: https://www.tensorflow.org/tfx/guide/statsgen\n",
    "  * SchemaGen examines the statistics and creates a data schema: https://www.tensorflow.org/tfx/guide/schemagen\n",
    "1. **Feature Engineering:** https://colab.research.google.com/github/tensorflow/tfx/blob/master/docs/tutorials/tfx/penguin_tft.ipynb\n",
    "  * https://www.tensorflow.org/tfx/guide/tft\n",
    "  * Transform performs feature engineering on the dataset: https://www.tensorflow.org/tfx/guide/transform\n",
    "1. **Model Analysis:** https://colab.research.google.com/github/tensorflow/tfx/blob/master/docs/tutorials/tfx/penguin_tfma.ipynb\n",
    "  * https://www.tensorflow.org/tfx/guide/tfma\n",
    "  * Evaluator performs deep analysis of the training results and helps you validate your exported models, ensuring that they are \"good enough\" to be pushed to production: https://www.tensorflow.org/tfx/guide/evaluator\n",
    "\n",
    "https://www.tensorflow.org/tfx/tutorials"
   ]
  },
  {
   "cell_type": "code",
   "execution_count": 1,
   "metadata": {
    "colab": {
     "base_uri": "https://localhost:8080/"
    },
    "id": "MSzUEiEPgpuM",
    "outputId": "ee1d1c6c-54f0-4f6a-e52b-e0c7ba7898d6"
   },
   "outputs": [
    {
     "name": "stdout",
     "output_type": "stream",
     "text": [
      "TensorFlow version: 2.6.0\n",
      "TFX version: 1.3.0\n"
     ]
    }
   ],
   "source": [
    "import tensorflow as tf\n",
    "print('TensorFlow version: {}'.format(tf.__version__))\n",
    "from tfx import v1 as tfx\n",
    "print('TFX version: {}'.format(tfx.__version__))"
   ]
  },
  {
   "cell_type": "code",
   "execution_count": 2,
   "metadata": {
    "id": "i3OoEXQtg-c_"
   },
   "outputs": [],
   "source": [
    "from absl import logging\n",
    "logging.set_verbosity(logging.WARNING)"
   ]
  },
  {
   "cell_type": "code",
   "execution_count": 3,
   "metadata": {
    "id": "xYpianTTk8Rp"
   },
   "outputs": [],
   "source": [
    "DATA_DIR = \"data\""
   ]
  },
  {
   "cell_type": "code",
   "execution_count": 4,
   "metadata": {
    "id": "Hd9fZ3gOhEs1"
   },
   "outputs": [
    {
     "name": "stdout",
     "output_type": "stream",
     "text": [
      "mkdir: cannot create directory ‘data’: File exists\r\n"
     ]
    }
   ],
   "source": [
    "!mkdir {DATA_DIR}"
   ]
  },
  {
   "cell_type": "code",
   "execution_count": 5,
   "metadata": {
    "colab": {
     "base_uri": "https://localhost:8080/"
    },
    "id": "lVMIRHNShGR6",
    "outputId": "ca9b9933-648f-44ac-cfc4-4c7eb113be52"
   },
   "outputs": [
    {
     "name": "stdout",
     "output_type": "stream",
     "text": [
      "  % Total    % Received % Xferd  Average Speed   Time    Time     Time  Current\n",
      "                                 Dload  Upload   Total   Spent    Left  Speed\n",
      "100 54421  100 54421    0     0  64864      0 --:--:-- --:--:-- --:--:-- 64786\n"
     ]
    }
   ],
   "source": [
    "!curl -o {DATA_DIR}/data.csv https://raw.githubusercontent.com/embarced/notebooks/master/mlops/insurance-customers-risk-1500.csv"
   ]
  },
  {
   "cell_type": "code",
   "execution_count": 6,
   "metadata": {
    "colab": {
     "base_uri": "https://localhost:8080/"
    },
    "id": "1U-Fmy9Xj9UY",
    "outputId": "8bca5fbf-19bf-4529-ac86-71d5c368da9c"
   },
   "outputs": [
    {
     "name": "stdout",
     "output_type": "stream",
     "text": [
      "total 56\r\n",
      "-rw-r--r-- 1 olli olli 54421 Oct 26 17:45 data.csv\r\n"
     ]
    }
   ],
   "source": [
    "!ls -l data"
   ]
  },
  {
   "cell_type": "code",
   "execution_count": 7,
   "metadata": {
    "colab": {
     "base_uri": "https://localhost:8080/"
    },
    "id": "JMovZLm5JMJq",
    "outputId": "c0c31edc-8fe3-46c4-fd5e-bdda2d03dd6a"
   },
   "outputs": [
    {
     "name": "stdout",
     "output_type": "stream",
     "text": [
      "speed,age,miles,group,risk\r\n",
      "97.0,44.0,30.0,1,0.5976112279191053\r\n",
      "135.0,63.0,29.0,1,0.4527103520003165\r\n",
      "111.0,26.0,34.0,0,0.750233962021037\r\n",
      "97.0,25.0,10.0,1,0.32524900971290915\r\n",
      "114.0,38.0,22.0,2,0.26973096398543817\r\n",
      "130.0,55.0,34.0,0,0.5871633471963134\r\n",
      "118.0,40.0,51.0,0,0.8753213424169751\r\n",
      "143.0,42.0,34.0,2,0.23665405507569381\r\n",
      "110.0,43.0,31.0,2,0.0\r\n"
     ]
    }
   ],
   "source": [
    "!head {DATA_DIR}/data.csv"
   ]
  },
  {
   "cell_type": "code",
   "execution_count": 16,
   "metadata": {},
   "outputs": [],
   "source": [
    "def _create_schema_pipeline(pipeline_name: str,\n",
    "                            pipeline_root: str,\n",
    "                            data_root: str,\n",
    "                            metadata_path: str) -> tfx.dsl.Pipeline:\n",
    "  \"\"\"Creates a pipeline for schema generation.\"\"\"\n",
    "  # Brings data into the pipeline.\n",
    "  example_gen = tfx.components.CsvExampleGen(input_base=data_root)\n",
    "\n",
    "  # NEW: Computes statistics over data for visualization and schema generation.\n",
    "  statistics_gen = tfx.components.StatisticsGen(\n",
    "      examples=example_gen.outputs['examples'])\n",
    "\n",
    "  # NEW: Generates schema based on the generated statistics.\n",
    "  schema_gen = tfx.components.SchemaGen(\n",
    "      statistics=statistics_gen.outputs['statistics'], infer_feature_shape=True)\n",
    "\n",
    "  components = [\n",
    "      example_gen,\n",
    "      statistics_gen,\n",
    "      schema_gen,\n",
    "  ]\n",
    "\n",
    "  return tfx.dsl.Pipeline(\n",
    "      pipeline_name=pipeline_name,\n",
    "      pipeline_root=pipeline_root,\n",
    "      metadata_connection_config=tfx.orchestration.metadata\n",
    "      .sqlite_metadata_connection_config(metadata_path),\n",
    "      components=components)"
   ]
  },
  {
   "cell_type": "code",
   "execution_count": 31,
   "metadata": {},
   "outputs": [
    {
     "data": {
      "text/plain": [
       "<tfx.orchestration.pipeline.Pipeline at 0x7f2bf40ed550>"
      ]
     },
     "execution_count": 31,
     "metadata": {},
     "output_type": "execute_result"
    }
   ],
   "source": [
    "%%time \n",
    "\n",
    "pipeline = _create_schema_pipeline(\n",
    "      pipeline_name='insurance-schema',\n",
    "      pipeline_root='schema-pipeline',\n",
    "      data_root=DATA_DIR,\n",
    "      metadata_path='metadata.db')\n",
    "tfx.orchestration.LocalDagRunner().run(pipeline)"
   ]
  },
  {
   "cell_type": "code",
   "execution_count": 26,
   "metadata": {},
   "outputs": [
    {
     "name": "stdout",
     "output_type": "stream",
     "text": [
      "total 12\r\n",
      "drwxr-xr-x 4 olli olli 4096 Oct 26 18:19 CsvExampleGen\r\n",
      "drwxr-xr-x 4 olli olli 4096 Oct 26 18:19 SchemaGen\r\n",
      "drwxr-xr-x 4 olli olli 4096 Oct 26 18:19 StatisticsGen\r\n"
     ]
    }
   ],
   "source": [
    "!ls -l schema-pipeline"
   ]
  },
  {
   "cell_type": "code",
   "execution_count": 33,
   "metadata": {},
   "outputs": [],
   "source": [
    "from ml_metadata.proto import metadata_store_pb2\n",
    "# Non-public APIs, just for showcase.\n",
    "from tfx.orchestration.portable.mlmd import execution_lib\n",
    "\n",
    "# TODO(b/171447278): Move these functions into the TFX library.\n",
    "\n",
    "def get_latest_artifacts(metadata, pipeline_name, component_id):\n",
    "  \"\"\"Output artifacts of the latest run of the component.\"\"\"\n",
    "  context = metadata.store.get_context_by_type_and_name(\n",
    "      'node', f'{pipeline_name}.{component_id}')\n",
    "  executions = metadata.store.get_executions_by_context(context.id)\n",
    "  latest_execution = max(executions,\n",
    "                         key=lambda e:e.last_update_time_since_epoch)\n",
    "  return execution_lib.get_artifacts_dict(metadata, latest_execution.id, \n",
    "                                          metadata_store_pb2.Event.OUTPUT)\n",
    "\n",
    "# Non-public APIs, just for showcase.\n",
    "from tfx.orchestration.experimental.interactive import visualizations\n",
    "\n",
    "def visualize_artifacts(artifacts):\n",
    "  \"\"\"Visualizes artifacts using standard visualization modules.\"\"\"\n",
    "  for artifact in artifacts:\n",
    "    visualization = visualizations.get_registry().get_visualization(\n",
    "        artifact.type_name)\n",
    "    if visualization:\n",
    "      visualization.display(artifact)\n",
    "\n",
    "from tfx.orchestration.experimental.interactive import standard_visualizations\n",
    "standard_visualizations.register_standard_visualizations()"
   ]
  },
  {
   "cell_type": "code",
   "execution_count": 35,
   "metadata": {},
   "outputs": [],
   "source": [
    "# Non-public APIs, just for showcase.\n",
    "from tfx.orchestration.metadata import Metadata\n",
    "from tfx.types import standard_component_specs\n",
    "\n",
    "metadata_connection_config = tfx.orchestration.metadata.sqlite_metadata_connection_config(\"metadata.db\")\n",
    "\n",
    "with Metadata(metadata_connection_config) as metadata_handler:\n",
    "  # Find output artifacts from MLMD.\n",
    "  stat_gen_output = get_latest_artifacts(metadata_handler, \"insurance-schema\", 'StatisticsGen')\n",
    "  stats_artifacts = stat_gen_output[standard_component_specs.STATISTICS_KEY]\n",
    "\n",
    "  schema_gen_output = get_latest_artifacts(metadata_handler, \"insurance-schema\", 'SchemaGen')\n",
    "  schema_artifacts = schema_gen_output[standard_component_specs.SCHEMA_KEY]"
   ]
  },
  {
   "cell_type": "code",
   "execution_count": 37,
   "metadata": {},
   "outputs": [
    {
     "data": {
      "text/html": [
       "<div>\n",
       "<style scoped>\n",
       "    .dataframe tbody tr th:only-of-type {\n",
       "        vertical-align: middle;\n",
       "    }\n",
       "\n",
       "    .dataframe tbody tr th {\n",
       "        vertical-align: top;\n",
       "    }\n",
       "\n",
       "    .dataframe thead th {\n",
       "        text-align: right;\n",
       "    }\n",
       "</style>\n",
       "<table border=\"1\" class=\"dataframe\">\n",
       "  <thead>\n",
       "    <tr style=\"text-align: right;\">\n",
       "      <th></th>\n",
       "      <th>Type</th>\n",
       "      <th>Presence</th>\n",
       "      <th>Valency</th>\n",
       "      <th>Domain</th>\n",
       "    </tr>\n",
       "    <tr>\n",
       "      <th>Feature name</th>\n",
       "      <th></th>\n",
       "      <th></th>\n",
       "      <th></th>\n",
       "      <th></th>\n",
       "    </tr>\n",
       "  </thead>\n",
       "  <tbody>\n",
       "    <tr>\n",
       "      <th>'age'</th>\n",
       "      <td>FLOAT</td>\n",
       "      <td>required</td>\n",
       "      <td></td>\n",
       "      <td>-</td>\n",
       "    </tr>\n",
       "    <tr>\n",
       "      <th>'group'</th>\n",
       "      <td>INT</td>\n",
       "      <td>required</td>\n",
       "      <td></td>\n",
       "      <td>-</td>\n",
       "    </tr>\n",
       "    <tr>\n",
       "      <th>'miles'</th>\n",
       "      <td>FLOAT</td>\n",
       "      <td>required</td>\n",
       "      <td></td>\n",
       "      <td>-</td>\n",
       "    </tr>\n",
       "    <tr>\n",
       "      <th>'risk'</th>\n",
       "      <td>FLOAT</td>\n",
       "      <td>required</td>\n",
       "      <td></td>\n",
       "      <td>-</td>\n",
       "    </tr>\n",
       "    <tr>\n",
       "      <th>'speed'</th>\n",
       "      <td>FLOAT</td>\n",
       "      <td>required</td>\n",
       "      <td></td>\n",
       "      <td>-</td>\n",
       "    </tr>\n",
       "  </tbody>\n",
       "</table>\n",
       "</div>"
      ],
      "text/plain": [
       "               Type  Presence Valency Domain\n",
       "Feature name                                \n",
       "'age'         FLOAT  required              -\n",
       "'group'         INT  required              -\n",
       "'miles'       FLOAT  required              -\n",
       "'risk'        FLOAT  required              -\n",
       "'speed'       FLOAT  required              -"
      ]
     },
     "metadata": {},
     "output_type": "display_data"
    }
   ],
   "source": [
    "visualize_artifacts(schema_artifacts)"
   ]
  },
  {
   "cell_type": "code",
   "execution_count": 36,
   "metadata": {},
   "outputs": [
    {
     "data": {
      "text/html": [
       "<div><b>'train' split:</b></div><br/>"
      ],
      "text/plain": [
       "<IPython.core.display.HTML object>"
      ]
     },
     "metadata": {},
     "output_type": "display_data"
    },
    {
     "data": {
      "text/html": [
       "<iframe id='facets-iframe' width=\"100%\" height=\"500px\"></iframe>\n",
       "        <script>\n",
       "        facets_iframe = document.getElementById('facets-iframe');\n",
       "        facets_html = '<script src=\"https://cdnjs.cloudflare.com/ajax/libs/webcomponentsjs/1.3.3/webcomponents-lite.js\"><\\/script><link rel=\"import\" href=\"https://raw.githubusercontent.com/PAIR-code/facets/master/facets-dist/facets-jupyter.html\"><facets-overview proto-input=\"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\"></facets-overview>';\n",
       "        facets_iframe.srcdoc = facets_html;\n",
       "         facets_iframe.id = \"\";\n",
       "         setTimeout(() => {\n",
       "           facets_iframe.setAttribute('height', facets_iframe.contentWindow.document.body.offsetHeight + 'px')\n",
       "         }, 1500)\n",
       "         </script>"
      ],
      "text/plain": [
       "<IPython.core.display.HTML object>"
      ]
     },
     "metadata": {},
     "output_type": "display_data"
    },
    {
     "data": {
      "text/html": [
       "<div><b>'eval' split:</b></div><br/>"
      ],
      "text/plain": [
       "<IPython.core.display.HTML object>"
      ]
     },
     "metadata": {},
     "output_type": "display_data"
    },
    {
     "data": {
      "text/html": [
       "<iframe id='facets-iframe' width=\"100%\" height=\"500px\"></iframe>\n",
       "        <script>\n",
       "        facets_iframe = document.getElementById('facets-iframe');\n",
       "        facets_html = '<script src=\"https://cdnjs.cloudflare.com/ajax/libs/webcomponentsjs/1.3.3/webcomponents-lite.js\"><\\/script><link rel=\"import\" href=\"https://raw.githubusercontent.com/PAIR-code/facets/master/facets-dist/facets-jupyter.html\"><facets-overview proto-input=\"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\"></facets-overview>';\n",
       "        facets_iframe.srcdoc = facets_html;\n",
       "         facets_iframe.id = \"\";\n",
       "         setTimeout(() => {\n",
       "           facets_iframe.setAttribute('height', facets_iframe.contentWindow.document.body.offsetHeight + 'px')\n",
       "         }, 1500)\n",
       "         </script>"
      ],
      "text/plain": [
       "<IPython.core.display.HTML object>"
      ]
     },
     "metadata": {},
     "output_type": "display_data"
    }
   ],
   "source": [
    "visualize_artifacts(stats_artifacts)"
   ]
  },
  {
   "cell_type": "code",
   "execution_count": null,
   "metadata": {},
   "outputs": [],
   "source": []
  },
  {
   "cell_type": "code",
   "execution_count": null,
   "metadata": {},
   "outputs": [],
   "source": []
  },
  {
   "cell_type": "code",
   "execution_count": 8,
   "metadata": {
    "colab": {
     "base_uri": "https://localhost:8080/"
    },
    "id": "PTy4Ubzo2ZtX",
    "outputId": "e15c8a8c-e717-405e-c848-7e29c63fae1d"
   },
   "outputs": [
    {
     "name": "stdout",
     "output_type": "stream",
     "text": [
      "total 12864\r\n",
      "-rw-r--r-- 1 olli olli 1431909 Oct 24 18:13 1_mlops_train.ipynb\r\n",
      "-rw-r--r-- 1 olli olli  175341 Oct 26 17:29 2_mlops_serve.ipynb\r\n",
      "-rw-r--r-- 1 olli olli 1686560 Oct 26 17:09 3_mlops_shift.ipynb\r\n",
      "-rw-r--r-- 1 olli olli   22900 Oct 26 17:34 4_mlops_tfx.ipynb\r\n",
      "-rw-r--r-- 1 olli olli   19484 Oct 26 17:32 5_mlops_tfx_ext.ipynb\r\n",
      "drwxr-xr-x 2 olli olli    4096 Oct 26 17:17 __pycache__\r\n",
      "drwxr-xr-x 4 olli olli    4096 Oct 24 17:34 classifier\r\n",
      "-rw-r--r-- 1 olli olli 3130024 Oct 26 17:09 classifier.h5\r\n",
      "-rw-r--r-- 1 olli olli 2892775 Oct 24 17:34 classifier.tgz\r\n",
      "drwxr-xr-x 2 olli olli    4096 Oct 26 17:11 data\r\n",
      "-rw-r--r-- 1 olli olli 2110237 Aug 14 20:29 generate.ipynb\r\n",
      "drwxr-xr-x 3 olli olli    4096 Oct 24 18:42 insurance\r\n",
      "-rw-r--r-- 1 olli olli   54500 Aug 14 20:29 insurance-customers-risk-1500-shift.csv\r\n",
      "-rw-r--r-- 1 olli olli   54435 Aug 14 20:29 insurance-customers-risk-1500-test.csv\r\n",
      "-rw-r--r-- 1 olli olli   54421 Aug 14 20:29 insurance-customers-risk-1500.csv\r\n",
      "-rw-r--r-- 1 olli olli  172032 Oct 26 17:32 metadata.db\r\n",
      "drwxr-xr-x 4 olli olli    4096 Oct 26 17:32 model\r\n",
      "-rw-r--r-- 1 olli olli   84726 Oct 26 16:53 model.png\r\n",
      "drwxr-xr-x 6 olli olli    4096 Oct 26 17:17 pipeline\r\n",
      "-rw-r--r-- 1 olli olli 1225551 Aug 14 20:29 train.ipynb\r\n",
      "-rw-r--r-- 1 olli olli    3944 Oct 26 17:11 trainer.py\r\n"
     ]
    }
   ],
   "source": [
    "!ls -l"
   ]
  },
  {
   "cell_type": "code",
   "execution_count": 9,
   "metadata": {
    "id": "-2-G4zPw2oGq"
   },
   "outputs": [],
   "source": [
    "_trainer_module_file = 'trainer.py'"
   ]
  },
  {
   "cell_type": "code",
   "execution_count": 10,
   "metadata": {
    "colab": {
     "base_uri": "https://localhost:8080/"
    },
    "id": "nOUodcze2qUK",
    "outputId": "a7f575f3-a2c9-49d6-e7de-19a98466bda8"
   },
   "outputs": [
    {
     "name": "stdout",
     "output_type": "stream",
     "text": [
      "Overwriting trainer.py\n"
     ]
    }
   ],
   "source": [
    "%%writefile {_trainer_module_file}\n",
    "\n",
    "from tensorflow.keras.layers import InputLayer, Dense, Dropout, \\\n",
    "                                    BatchNormalization, Activation,\\\n",
    "                                    Input, concatenate\n",
    "from typing import List\n",
    "from absl import logging\n",
    "import tensorflow as tf\n",
    "from tensorflow import keras\n",
    "from tensorflow_transform.tf_metadata import schema_utils\n",
    "\n",
    "from tfx import v1 as tfx\n",
    "from tfx_bsl.public import tfxio\n",
    "from tensorflow_metadata.proto.v0 import schema_pb2\n",
    "\n",
    "_FEATURE_KEYS = ['age', 'speed']\n",
    "_LABEL_KEY = 'group'\n",
    "\n",
    "_TRAIN_BATCH_SIZE = 32\n",
    "_EVAL_BATCH_SIZE = 32\n",
    "\n",
    "# Since we're not generating or creating a schema, we will instead create\n",
    "# a feature spec.  Since there are a fairly small number of features this is\n",
    "# manageable for this dataset.\n",
    "_FEATURE_SPEC = {\n",
    "    **{\n",
    "        feature: tf.io.FixedLenFeature(shape=[1], dtype=tf.float32)\n",
    "           for feature in _FEATURE_KEYS\n",
    "       },\n",
    "    _LABEL_KEY: tf.io.FixedLenFeature(shape=[1], dtype=tf.int64)\n",
    "}\n",
    "\n",
    "num_features = len(_FEATURE_KEYS)\n",
    "dropout = 0.5\n",
    "\n",
    "def _input_fn(file_pattern: List[str],\n",
    "              data_accessor: tfx.components.DataAccessor,\n",
    "              schema: schema_pb2.Schema,\n",
    "              batch_size: int = 200) -> tf.data.Dataset:\n",
    "  \"\"\"Generates features and label for training.\n",
    "\n",
    "  Args:\n",
    "    file_pattern: List of paths or patterns of input tfrecord files.\n",
    "    data_accessor: DataAccessor for converting input to RecordBatch.\n",
    "    schema: schema of the input data.\n",
    "    batch_size: representing the number of consecutive elements of returned\n",
    "      dataset to combine in a single batch\n",
    "\n",
    "  Returns:\n",
    "    A dataset that contains (features, indices) tuple where features is a\n",
    "      dictionary of Tensors, and indices is a single Tensor of label indices.\n",
    "  \"\"\"\n",
    "  return data_accessor.tf_dataset_factory(\n",
    "      file_pattern,\n",
    "      tfxio.TensorFlowDatasetOptions(\n",
    "          batch_size=batch_size, label_key=_LABEL_KEY),\n",
    "      schema=schema).repeat()\n",
    "\n",
    "\n",
    "def _build_keras_model() -> tf.keras.Model:\n",
    "  \"\"\"Creates a DNN Keras model for classifying penguin data.\n",
    "\n",
    "  Returns:\n",
    "    A Keras Model.\n",
    "  \"\"\"\n",
    "\n",
    "  inputs = [keras.layers.Input(shape=(1,), name=f) for f in _FEATURE_KEYS]\n",
    "  d = keras.layers.concatenate(inputs)\n",
    "  for _ in range(2):\n",
    "    d = Dense(500)(d)\n",
    "    d = Activation('relu')(d)\n",
    "    d = BatchNormalization()(d)\n",
    "    d = Dropout(dropout)(d)\n",
    "\n",
    "  outputs = Dense(name='output', units=3, activation='softmax')(d)\n",
    "\n",
    "  model = keras.Model(inputs=inputs, outputs=outputs)\n",
    "\n",
    "  model.compile(\n",
    "      optimizer=keras.optimizers.Adam(),\n",
    "      loss=tf.keras.losses.SparseCategoricalCrossentropy(from_logits=True),\n",
    "      metrics=[keras.metrics.SparseCategoricalAccuracy()])\n",
    "\n",
    "  model.summary(print_fn=logging.info)\n",
    "  return model\n",
    "\n",
    "\n",
    "# TFX Trainer will call this function.\n",
    "def run_fn(fn_args: tfx.components.FnArgs):\n",
    "  \"\"\"Train the model based on given args.\n",
    "\n",
    "  Args:\n",
    "    fn_args: Holds args used to train the model as name/value pairs.\n",
    "  \"\"\"\n",
    "\n",
    "  # This schema is usually either an output of SchemaGen or a manually-curated\n",
    "  # version provided by pipeline author. A schema can also derived from TFT\n",
    "  # graph if a Transform component is used. In the case when either is missing,\n",
    "  # `schema_from_feature_spec` could be used to generate schema from very simple\n",
    "  # feature_spec, but the schema returned would be very primitive.\n",
    "  schema = schema_utils.schema_from_feature_spec(_FEATURE_SPEC)\n",
    "\n",
    "  train_dataset = _input_fn(\n",
    "      fn_args.train_files,\n",
    "      fn_args.data_accessor,\n",
    "      schema,\n",
    "      batch_size=_TRAIN_BATCH_SIZE)\n",
    "  eval_dataset = _input_fn(\n",
    "      fn_args.eval_files,\n",
    "      fn_args.data_accessor,\n",
    "      schema,\n",
    "      batch_size=_EVAL_BATCH_SIZE)\n",
    "\n",
    "  model = _build_keras_model()\n",
    "\n",
    "  model.fit(\n",
    "      train_dataset,\n",
    "      steps_per_epoch=fn_args.train_steps,\n",
    "      validation_data=eval_dataset,\n",
    "      validation_steps=fn_args.eval_steps)\n",
    "\n",
    "  # The result of the training should be saved in `fn_args.serving_model_dir`\n",
    "  # directory.\n",
    "  model.save(fn_args.serving_model_dir, save_format='tf')"
   ]
  },
  {
   "cell_type": "code",
   "execution_count": 11,
   "metadata": {
    "id": "rXeTQ4ExiHf_"
   },
   "outputs": [],
   "source": [
    "# !cat trainer.py"
   ]
  },
  {
   "cell_type": "code",
   "execution_count": 12,
   "metadata": {
    "colab": {
     "base_uri": "https://localhost:8080/"
    },
    "id": "k_-248z3Vl6W",
    "outputId": "2fd81dab-f278-472b-b008-277bce7b0bbd"
   },
   "outputs": [
    {
     "data": {
      "text/plain": [
       "781.25"
      ]
     },
     "execution_count": 12,
     "metadata": {},
     "output_type": "execute_result"
    }
   ],
   "source": [
    "# train:eval 2:1\n",
    "# epoch = 1\n",
    "# examples = 500\n",
    "epoch = 100\n",
    "examples = 1000\n",
    "steps = (epoch * examples)/128\n",
    "steps"
   ]
  },
  {
   "cell_type": "code",
   "execution_count": 13,
   "metadata": {
    "id": "sqOMX7EU7-Ec"
   },
   "outputs": [],
   "source": [
    "def _create_pipeline(pipeline_name: str, pipeline_root: str, data_root: str,\n",
    "                     module_file: str, serving_model_dir: str,\n",
    "                     metadata_path: str) -> tfx.dsl.Pipeline:\n",
    "  \"\"\"Creates a three component penguin pipeline with TFX.\"\"\"\n",
    "  # Brings data into the pipeline.\n",
    "  example_gen = tfx.components.CsvExampleGen(input_base=data_root)\n",
    "\n",
    "  # Uses user-provided Python function that trains a model.\n",
    "  trainer = tfx.components.Trainer(\n",
    "      module_file=module_file,\n",
    "      examples=example_gen.outputs['examples'],\n",
    "      train_args=tfx.proto.TrainArgs(num_steps=5000),\n",
    "      eval_args=tfx.proto.EvalArgs(num_steps=15))\n",
    "\n",
    "  # Pushes the model to a filesystem destination.\n",
    "  pusher = tfx.components.Pusher(\n",
    "      model=trainer.outputs['model'],\n",
    "      push_destination=tfx.proto.PushDestination(\n",
    "          filesystem=tfx.proto.PushDestination.Filesystem(\n",
    "              base_directory=serving_model_dir)))\n",
    "\n",
    "  # Following three components will be included in the pipeline.\n",
    "  components = [\n",
    "      example_gen,\n",
    "      trainer,\n",
    "      pusher,\n",
    "  ]\n",
    "\n",
    "  return tfx.dsl.Pipeline(\n",
    "      pipeline_name=pipeline_name,\n",
    "      pipeline_root=pipeline_root,\n",
    "      metadata_connection_config=tfx.orchestration.metadata\n",
    "      .sqlite_metadata_connection_config(metadata_path),\n",
    "      components=components)"
   ]
  },
  {
   "cell_type": "code",
   "execution_count": 14,
   "metadata": {
    "colab": {
     "base_uri": "https://localhost:8080/"
    },
    "id": "rjHiypa7_HJu",
    "outputId": "78f785b0-513d-4450-e189-edf54d3caf71"
   },
   "outputs": [
    {
     "data": {
      "text/plain": [
       "<tfx.orchestration.pipeline.Pipeline at 0x7f2d9ca2e2b0>"
      ]
     },
     "execution_count": 14,
     "metadata": {},
     "output_type": "execute_result"
    }
   ],
   "source": [
    "pipeline = _create_pipeline(\n",
    "      pipeline_name='insurance-basic',\n",
    "      pipeline_root='pipeline',\n",
    "      data_root=DATA_DIR,\n",
    "      module_file=_trainer_module_file,\n",
    "      serving_model_dir='model',\n",
    "      metadata_path='metadata.db')\n",
    "pipeline"
   ]
  },
  {
   "cell_type": "code",
   "execution_count": 15,
   "metadata": {
    "colab": {
     "base_uri": "https://localhost:8080/",
     "height": 224
    },
    "id": "W1Y3xE-C_PFO",
    "outputId": "9a3a21f8-0ea2-4792-f00e-7d5250f1758e"
   },
   "outputs": [
    {
     "data": {
      "application/javascript": [
       "\n",
       "        if (typeof window.interactive_beam_jquery == 'undefined') {\n",
       "          var jqueryScript = document.createElement('script');\n",
       "          jqueryScript.src = 'https://code.jquery.com/jquery-3.4.1.slim.min.js';\n",
       "          jqueryScript.type = 'text/javascript';\n",
       "          jqueryScript.onload = function() {\n",
       "            var datatableScript = document.createElement('script');\n",
       "            datatableScript.src = 'https://cdn.datatables.net/1.10.20/js/jquery.dataTables.min.js';\n",
       "            datatableScript.type = 'text/javascript';\n",
       "            datatableScript.onload = function() {\n",
       "              window.interactive_beam_jquery = jQuery.noConflict(true);\n",
       "              window.interactive_beam_jquery(document).ready(function($){\n",
       "                \n",
       "              });\n",
       "            }\n",
       "            document.head.appendChild(datatableScript);\n",
       "          };\n",
       "          document.head.appendChild(jqueryScript);\n",
       "        } else {\n",
       "          window.interactive_beam_jquery(document).ready(function($){\n",
       "            \n",
       "          });\n",
       "        }"
      ]
     },
     "metadata": {},
     "output_type": "display_data"
    },
    {
     "name": "stderr",
     "output_type": "stream",
     "text": [
      "WARNING:root:Make sure that locally built Python SDK docker image has Python 3.8 interpreter.\n",
      "WARNING:apache_beam.io.tfrecordio:Couldn't find python-snappy so the implementation of _TFRecordUtil._masked_crc32c is not as fast as it could be.\n",
      "/home/olli/anaconda3/envs/tfx/lib/python3.8/site-packages/keras/backend.py:4906: UserWarning: \"`sparse_categorical_crossentropy` received `from_logits=True`, but the `output` argument was produced by a sigmoid or softmax activation and thus does not represent logits. Was this intended?\"\n",
      "  warnings.warn(\n"
     ]
    },
    {
     "name": "stdout",
     "output_type": "stream",
     "text": [
      "5000/5000 [==============================] - 35s 7ms/step - loss: 0.8410 - sparse_categorical_accuracy: 0.6310 - val_loss: 0.6781 - val_sparse_categorical_accuracy: 0.7188\n",
      "INFO:tensorflow:Assets written to: pipeline/Trainer/model/8/Format-Serving/assets\n"
     ]
    },
    {
     "name": "stderr",
     "output_type": "stream",
     "text": [
      "INFO:tensorflow:Assets written to: pipeline/Trainer/model/8/Format-Serving/assets\n",
      "WARNING:absl:Pusher is going to push the model without validation. Consider using Evaluator or InfraValidator in your pipeline.\n"
     ]
    },
    {
     "name": "stdout",
     "output_type": "stream",
     "text": [
      "CPU times: user 48.5 s, sys: 23.9 s, total: 1min 12s\n",
      "Wall time: 59.1 s\n"
     ]
    }
   ],
   "source": [
    "%%time \n",
    "\n",
    "tfx.orchestration.LocalDagRunner().run(pipeline)"
   ]
  },
  {
   "cell_type": "code",
   "execution_count": null,
   "metadata": {
    "id": "NlGPE-vIju_Q"
   },
   "outputs": [],
   "source": []
  }
 ],
 "metadata": {
  "colab": {
   "collapsed_sections": [],
   "name": "5-mlops-tfx-ext.ipynb",
   "provenance": []
  },
  "kernelspec": {
   "display_name": "Python 3",
   "language": "python",
   "name": "python3"
  },
  "language_info": {
   "codemirror_mode": {
    "name": "ipython",
    "version": 3
   },
   "file_extension": ".py",
   "mimetype": "text/x-python",
   "name": "python",
   "nbconvert_exporter": "python",
   "pygments_lexer": "ipython3",
   "version": "3.8.8"
  }
 },
 "nbformat": 4,
 "nbformat_minor": 1
}
