{
 "cells": [
  {
   "cell_type": "markdown",
   "metadata": {
    "id": "XdfXfXK2-CiG"
   },
   "source": [
    "# Detecting Drift\n",
    "\n",
    "* https://www.tensorflow.org/tfx/guide/tfdv\n",
    "* https://www.tensorflow.org/tfx/tutorials/data_validation/tfdv_basic#check_for_drift_and_skew          \n",
    "  * https://colab.research.google.com/github/tensorflow/tfx/blob/master/docs/tutorials/data_validation/tfdv_basic.ipynb\n",
    "* Stats visualized using https://pair-code.github.io/facets/\n",
    "* Metric for drift: https://en.wikipedia.org/wiki/Chebyshev_distance"
   ]
  },
  {
   "cell_type": "code",
   "execution_count": 1,
   "metadata": {
    "colab": {
     "base_uri": "https://localhost:8080/"
    },
    "id": "MSzUEiEPgpuM",
    "outputId": "2ca035f1-c786-42e5-d2b6-b0876c9d0995"
   },
   "outputs": [
    {
     "name": "stdout",
     "output_type": "stream",
     "text": [
      "TensorFlow version: 2.6.0\n",
      "TFDV version: 1.3.0\n"
     ]
    }
   ],
   "source": [
    "import tensorflow as tf\n",
    "print('TensorFlow version: {}'.format(tf.__version__))\n",
    "\n",
    "import tensorflow_data_validation as tfdv\n",
    "print('TFDV version: {}'.format(tfdv.version.__version__))"
   ]
  },
  {
   "cell_type": "code",
   "execution_count": 2,
   "metadata": {
    "id": "i3OoEXQtg-c_"
   },
   "outputs": [],
   "source": [
    "from absl import logging\n",
    "\n",
    "# logging.set_verbosity(logging.INFO)\n",
    "logging.set_verbosity(logging.WARNING)\n",
    "# logging.set_verbosity(logging.ERROR)"
   ]
  },
  {
   "cell_type": "code",
   "execution_count": 3,
   "metadata": {
    "id": "Hd9fZ3gOhEs1"
   },
   "outputs": [
    {
     "name": "stdout",
     "output_type": "stream",
     "text": [
      "mkdir: cannot create directory ‘data’: File exists\r\n"
     ]
    }
   ],
   "source": [
    "!mkdir data"
   ]
  },
  {
   "cell_type": "code",
   "execution_count": 4,
   "metadata": {
    "colab": {
     "base_uri": "https://localhost:8080/"
    },
    "id": "lVMIRHNShGR6",
    "outputId": "604531f2-2aec-49ed-9e48-e9955b4bf8e2"
   },
   "outputs": [
    {
     "name": "stdout",
     "output_type": "stream",
     "text": [
      "  % Total    % Received % Xferd  Average Speed   Time    Time     Time  Current\n",
      "                                 Dload  Upload   Total   Spent    Left  Speed\n",
      "100 54421  100 54421    0     0  58018      0 --:--:-- --:--:-- --:--:-- 57956\n"
     ]
    }
   ],
   "source": [
    "!curl -o data/data.csv https://raw.githubusercontent.com/embarced/notebooks/master/mlops/insurance-customers-risk-1500.csv"
   ]
  },
  {
   "cell_type": "code",
   "execution_count": 5,
   "metadata": {},
   "outputs": [
    {
     "name": "stdout",
     "output_type": "stream",
     "text": [
      "  % Total    % Received % Xferd  Average Speed   Time    Time     Time  Current\n",
      "                                 Dload  Upload   Total   Spent    Left  Speed\n",
      "100 54500  100 54500    0     0  55669      0 --:--:-- --:--:-- --:--:-- 55612\n"
     ]
    }
   ],
   "source": [
    "!curl -o data/drifted-data.csv https://raw.githubusercontent.com/embarced/notebooks/master/mlops/insurance-customers-risk-1500-shift.csv"
   ]
  },
  {
   "cell_type": "code",
   "execution_count": 6,
   "metadata": {
    "colab": {
     "base_uri": "https://localhost:8080/"
    },
    "id": "1U-Fmy9Xj9UY",
    "outputId": "acc05580-a75e-4258-82a3-78e4ce00db24"
   },
   "outputs": [
    {
     "name": "stdout",
     "output_type": "stream",
     "text": [
      "total 112\r\n",
      "-rw-r--r-- 1 olli olli 54421 Nov  7 12:45 data.csv\r\n",
      "-rw-r--r-- 1 olli olli 54500 Nov  7 12:45 drifted-data.csv\r\n"
     ]
    }
   ],
   "source": [
    "!ls -l data"
   ]
  },
  {
   "cell_type": "markdown",
   "metadata": {},
   "source": [
    "# Stats for Training Data"
   ]
  },
  {
   "cell_type": "code",
   "execution_count": 7,
   "metadata": {},
   "outputs": [
    {
     "data": {
      "application/javascript": [
       "\n",
       "        if (typeof window.interactive_beam_jquery == 'undefined') {\n",
       "          var jqueryScript = document.createElement('script');\n",
       "          jqueryScript.src = 'https://code.jquery.com/jquery-3.4.1.slim.min.js';\n",
       "          jqueryScript.type = 'text/javascript';\n",
       "          jqueryScript.onload = function() {\n",
       "            var datatableScript = document.createElement('script');\n",
       "            datatableScript.src = 'https://cdn.datatables.net/1.10.20/js/jquery.dataTables.min.js';\n",
       "            datatableScript.type = 'text/javascript';\n",
       "            datatableScript.onload = function() {\n",
       "              window.interactive_beam_jquery = jQuery.noConflict(true);\n",
       "              window.interactive_beam_jquery(document).ready(function($){\n",
       "                \n",
       "              });\n",
       "            }\n",
       "            document.head.appendChild(datatableScript);\n",
       "          };\n",
       "          document.head.appendChild(jqueryScript);\n",
       "        } else {\n",
       "          window.interactive_beam_jquery(document).ready(function($){\n",
       "            \n",
       "          });\n",
       "        }"
      ]
     },
     "metadata": {},
     "output_type": "display_data"
    },
    {
     "name": "stderr",
     "output_type": "stream",
     "text": [
      "WARNING:root:Make sure that locally built Python SDK docker image has Python 3.8 interpreter.\n",
      "WARNING:apache_beam.io.tfrecordio:Couldn't find python-snappy so the implementation of _TFRecordUtil._masked_crc32c is not as fast as it could be.\n"
     ]
    },
    {
     "name": "stdout",
     "output_type": "stream",
     "text": [
      "WARNING:tensorflow:From /home/olli/anaconda3/envs/tfx/lib/python3.8/site-packages/tensorflow_data_validation/utils/stats_util.py:247: tf_record_iterator (from tensorflow.python.lib.io.tf_record) is deprecated and will be removed in a future version.\n",
      "Instructions for updating:\n",
      "Use eager execution and: \n",
      "`tf.data.TFRecordDataset(path)`\n"
     ]
    },
    {
     "name": "stderr",
     "output_type": "stream",
     "text": [
      "WARNING:tensorflow:From /home/olli/anaconda3/envs/tfx/lib/python3.8/site-packages/tensorflow_data_validation/utils/stats_util.py:247: tf_record_iterator (from tensorflow.python.lib.io.tf_record) is deprecated and will be removed in a future version.\n",
      "Instructions for updating:\n",
      "Use eager execution and: \n",
      "`tf.data.TFRecordDataset(path)`\n"
     ]
    },
    {
     "data": {
      "text/html": [
       "<iframe id='facets-iframe' width=\"100%\" height=\"500px\"></iframe>\n",
       "        <script>\n",
       "        facets_iframe = document.getElementById('facets-iframe');\n",
       "        facets_html = '<script src=\"https://cdnjs.cloudflare.com/ajax/libs/webcomponentsjs/1.3.3/webcomponents-lite.js\"><\\/script><link rel=\"import\" href=\"https://raw.githubusercontent.com/PAIR-code/facets/master/facets-dist/facets-jupyter.html\"><facets-overview proto-input=\"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\"></facets-overview>';\n",
       "        facets_iframe.srcdoc = facets_html;\n",
       "         facets_iframe.id = \"\";\n",
       "         setTimeout(() => {\n",
       "           facets_iframe.setAttribute('height', facets_iframe.contentWindow.document.body.offsetHeight + 'px')\n",
       "         }, 1500)\n",
       "         </script>"
      ],
      "text/plain": [
       "<IPython.core.display.HTML object>"
      ]
     },
     "metadata": {},
     "output_type": "display_data"
    }
   ],
   "source": [
    "train_stats = tfdv.generate_statistics_from_csv(data_location='data/data.csv')\n",
    "tfdv.visualize_statistics(train_stats)"
   ]
  },
  {
   "cell_type": "markdown",
   "metadata": {},
   "source": [
    "# Inferring Schema from training data"
   ]
  },
  {
   "cell_type": "code",
   "execution_count": 8,
   "metadata": {},
   "outputs": [
    {
     "data": {
      "text/html": [
       "<div>\n",
       "<style scoped>\n",
       "    .dataframe tbody tr th:only-of-type {\n",
       "        vertical-align: middle;\n",
       "    }\n",
       "\n",
       "    .dataframe tbody tr th {\n",
       "        vertical-align: top;\n",
       "    }\n",
       "\n",
       "    .dataframe thead th {\n",
       "        text-align: right;\n",
       "    }\n",
       "</style>\n",
       "<table border=\"1\" class=\"dataframe\">\n",
       "  <thead>\n",
       "    <tr style=\"text-align: right;\">\n",
       "      <th></th>\n",
       "      <th>Type</th>\n",
       "      <th>Presence</th>\n",
       "      <th>Valency</th>\n",
       "      <th>Domain</th>\n",
       "    </tr>\n",
       "    <tr>\n",
       "      <th>Feature name</th>\n",
       "      <th></th>\n",
       "      <th></th>\n",
       "      <th></th>\n",
       "      <th></th>\n",
       "    </tr>\n",
       "  </thead>\n",
       "  <tbody>\n",
       "    <tr>\n",
       "      <th>'speed'</th>\n",
       "      <td>FLOAT</td>\n",
       "      <td>required</td>\n",
       "      <td></td>\n",
       "      <td>-</td>\n",
       "    </tr>\n",
       "    <tr>\n",
       "      <th>'age'</th>\n",
       "      <td>FLOAT</td>\n",
       "      <td>required</td>\n",
       "      <td></td>\n",
       "      <td>-</td>\n",
       "    </tr>\n",
       "    <tr>\n",
       "      <th>'miles'</th>\n",
       "      <td>FLOAT</td>\n",
       "      <td>required</td>\n",
       "      <td></td>\n",
       "      <td>-</td>\n",
       "    </tr>\n",
       "    <tr>\n",
       "      <th>'group'</th>\n",
       "      <td>INT</td>\n",
       "      <td>required</td>\n",
       "      <td></td>\n",
       "      <td>-</td>\n",
       "    </tr>\n",
       "    <tr>\n",
       "      <th>'risk'</th>\n",
       "      <td>FLOAT</td>\n",
       "      <td>required</td>\n",
       "      <td></td>\n",
       "      <td>-</td>\n",
       "    </tr>\n",
       "  </tbody>\n",
       "</table>\n",
       "</div>"
      ],
      "text/plain": [
       "               Type  Presence Valency Domain\n",
       "Feature name                                \n",
       "'speed'       FLOAT  required              -\n",
       "'age'         FLOAT  required              -\n",
       "'miles'       FLOAT  required              -\n",
       "'group'         INT  required              -\n",
       "'risk'        FLOAT  required              -"
      ]
     },
     "metadata": {},
     "output_type": "display_data"
    }
   ],
   "source": [
    "schema = tfdv.infer_schema(statistics=train_stats)\n",
    "tfdv.display_schema(schema=schema)"
   ]
  },
  {
   "cell_type": "markdown",
   "metadata": {},
   "source": [
    "# Stats for Serving Data"
   ]
  },
  {
   "cell_type": "code",
   "execution_count": 9,
   "metadata": {},
   "outputs": [
    {
     "name": "stderr",
     "output_type": "stream",
     "text": [
      "WARNING:root:Make sure that locally built Python SDK docker image has Python 3.8 interpreter.\n"
     ]
    },
    {
     "data": {
      "text/html": [
       "<iframe id='facets-iframe' width=\"100%\" height=\"500px\"></iframe>\n",
       "        <script>\n",
       "        facets_iframe = document.getElementById('facets-iframe');\n",
       "        facets_html = '<script src=\"https://cdnjs.cloudflare.com/ajax/libs/webcomponentsjs/1.3.3/webcomponents-lite.js\"><\\/script><link rel=\"import\" href=\"https://raw.githubusercontent.com/PAIR-code/facets/master/facets-dist/facets-jupyter.html\"><facets-overview proto-input=\"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\"></facets-overview>';\n",
       "        facets_iframe.srcdoc = facets_html;\n",
       "         facets_iframe.id = \"\";\n",
       "         setTimeout(() => {\n",
       "           facets_iframe.setAttribute('height', facets_iframe.contentWindow.document.body.offsetHeight + 'px')\n",
       "         }, 1500)\n",
       "         </script>"
      ],
      "text/plain": [
       "<IPython.core.display.HTML object>"
      ]
     },
     "metadata": {},
     "output_type": "display_data"
    }
   ],
   "source": [
    "serving_stats = tfdv.generate_statistics_from_csv(data_location='data/drifted-data.csv')\n",
    "tfdv.visualize_statistics(serving_stats)"
   ]
  },
  {
   "cell_type": "code",
   "execution_count": 10,
   "metadata": {},
   "outputs": [
    {
     "name": "stderr",
     "output_type": "stream",
     "text": [
      "/home/olli/anaconda3/envs/tfx/lib/python3.8/site-packages/tensorflow_data_validation/utils/display_util.py:217: FutureWarning: Passing a negative integer is deprecated in version 1.0 and will not be supported in future version. Instead, use None to not limit the column width.\n",
      "  pd.set_option('max_colwidth', -1)\n"
     ]
    },
    {
     "data": {
      "text/html": [
       "<h4 style=\"color:green;\">No anomalies found.</h4>"
      ],
      "text/plain": [
       "<IPython.core.display.HTML object>"
      ]
     },
     "metadata": {},
     "output_type": "display_data"
    }
   ],
   "source": [
    "serving_anomalies = tfdv.validate_statistics(serving_stats, schema)\n",
    "\n",
    "tfdv.display_anomalies(serving_anomalies)"
   ]
  },
  {
   "cell_type": "markdown",
   "metadata": {},
   "source": [
    "# Comparing Differences"
   ]
  },
  {
   "cell_type": "code",
   "execution_count": 11,
   "metadata": {},
   "outputs": [
    {
     "data": {
      "text/html": [
       "<iframe id='facets-iframe' width=\"100%\" height=\"500px\"></iframe>\n",
       "        <script>\n",
       "        facets_iframe = document.getElementById('facets-iframe');\n",
       "        facets_html = '<script src=\"https://cdnjs.cloudflare.com/ajax/libs/webcomponentsjs/1.3.3/webcomponents-lite.js\"><\\/script><link rel=\"import\" href=\"https://raw.githubusercontent.com/PAIR-code/facets/master/facets-dist/facets-jupyter.html\"><facets-overview proto-input=\"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\"></facets-overview>';\n",
       "        facets_iframe.srcdoc = facets_html;\n",
       "         facets_iframe.id = \"\";\n",
       "         setTimeout(() => {\n",
       "           facets_iframe.setAttribute('height', facets_iframe.contentWindow.document.body.offsetHeight + 'px')\n",
       "         }, 1500)\n",
       "         </script>"
      ],
      "text/plain": [
       "<IPython.core.display.HTML object>"
      ]
     },
     "metadata": {},
     "output_type": "display_data"
    }
   ],
   "source": [
    "# Compare evaluation data with training data\n",
    "tfdv.visualize_statistics(lhs_statistics=serving_stats, rhs_statistics=train_stats,\n",
    "                          lhs_name='SERVING_DATASET', rhs_name='TRAIN_DATASET')"
   ]
  },
  {
   "cell_type": "markdown",
   "metadata": {},
   "source": [
    "# Detecting skew anomalies\n",
    "* skew is drift between training and serving"
   ]
  },
  {
   "cell_type": "code",
   "execution_count": 12,
   "metadata": {},
   "outputs": [
    {
     "data": {
      "text/html": [
       "<div>\n",
       "<style scoped>\n",
       "    .dataframe tbody tr th:only-of-type {\n",
       "        vertical-align: middle;\n",
       "    }\n",
       "\n",
       "    .dataframe tbody tr th {\n",
       "        vertical-align: top;\n",
       "    }\n",
       "\n",
       "    .dataframe thead th {\n",
       "        text-align: right;\n",
       "    }\n",
       "</style>\n",
       "<table border=\"1\" class=\"dataframe\">\n",
       "  <thead>\n",
       "    <tr style=\"text-align: right;\">\n",
       "      <th></th>\n",
       "      <th>Anomaly short description</th>\n",
       "      <th>Anomaly long description</th>\n",
       "    </tr>\n",
       "    <tr>\n",
       "      <th>Feature name</th>\n",
       "      <th></th>\n",
       "      <th></th>\n",
       "    </tr>\n",
       "  </thead>\n",
       "  <tbody>\n",
       "    <tr>\n",
       "      <th>'speed'</th>\n",
       "      <td>High approximate Jensen-Shannon divergence between training and serving</td>\n",
       "      <td>The approximate Jensen-Shannon divergence between training and serving is 0.0462642 (up to six significant digits), above the threshold 0.02.</td>\n",
       "    </tr>\n",
       "  </tbody>\n",
       "</table>\n",
       "</div>"
      ],
      "text/plain": [
       "                                                            Anomaly short description  \\\n",
       "Feature name                                                                            \n",
       "'speed'       High approximate Jensen-Shannon divergence between training and serving   \n",
       "\n",
       "                                                                                                                                   Anomaly long description  \n",
       "Feature name                                                                                                                                                 \n",
       "'speed'       The approximate Jensen-Shannon divergence between training and serving is 0.0462642 (up to six significant digits), above the threshold 0.02.  "
      ]
     },
     "metadata": {},
     "output_type": "display_data"
    }
   ],
   "source": [
    "tfdv.get_feature(schema, 'speed').skew_comparator.jensen_shannon_divergence.threshold = 0.02\n",
    "tfdv.get_feature(schema, 'age').skew_comparator.jensen_shannon_divergence.threshold = 0.02\n",
    "tfdv.get_feature(schema, 'miles').skew_comparator.jensen_shannon_divergence.threshold = 0.02\n",
    "\n",
    "skew_anomalies = tfdv.validate_statistics(train_stats, schema,\n",
    "#                                           previous_statistics=eval_stats,\n",
    "                                          serving_statistics=serving_stats)\n",
    "\n",
    "tfdv.display_anomalies(skew_anomalies)"
   ]
  },
  {
   "cell_type": "code",
   "execution_count": null,
   "metadata": {},
   "outputs": [],
   "source": []
  }
 ],
 "metadata": {
  "colab": {
   "collapsed_sections": [],
   "name": "4-mlops-tfx.ipynb",
   "provenance": []
  },
  "kernelspec": {
   "display_name": "Python 3",
   "language": "python",
   "name": "python3"
  },
  "language_info": {
   "codemirror_mode": {
    "name": "ipython",
    "version": 3
   },
   "file_extension": ".py",
   "mimetype": "text/x-python",
   "name": "python",
   "nbconvert_exporter": "python",
   "pygments_lexer": "ipython3",
   "version": "3.8.8"
  }
 },
 "nbformat": 4,
 "nbformat_minor": 1
}
