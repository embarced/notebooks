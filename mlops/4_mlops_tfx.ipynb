{
 "cells": [
  {
   "cell_type": "markdown",
   "metadata": {
    "id": "XdfXfXK2-CiG"
   },
   "source": [
    "# Creating a reproducible pipeline using TFX\n",
    "\n",
    "Parts copied from: https://colab.research.google.com/github/tensorflow/tfx/blob/master/docs/tutorials/tfx/penguin_simple.ipynb"
   ]
  },
  {
   "cell_type": "code",
   "execution_count": 1,
   "metadata": {
    "colab": {
     "base_uri": "https://localhost:8080/"
    },
    "id": "MSzUEiEPgpuM",
    "outputId": "2ca035f1-c786-42e5-d2b6-b0876c9d0995"
   },
   "outputs": [
    {
     "name": "stdout",
     "output_type": "stream",
     "text": [
      "TensorFlow version: 2.6.0\n",
      "TFX version: 1.3.0\n"
     ]
    }
   ],
   "source": [
    "import tensorflow as tf\n",
    "print('TensorFlow version: {}'.format(tf.__version__))\n",
    "from tfx import v1 as tfx\n",
    "print('TFX version: {}'.format(tfx.__version__))"
   ]
  },
  {
   "cell_type": "code",
   "execution_count": 2,
   "metadata": {
    "id": "i3OoEXQtg-c_"
   },
   "outputs": [],
   "source": [
    "from absl import logging\n",
    "logging.set_verbosity(logging.WARNING)"
   ]
  },
  {
   "cell_type": "code",
   "execution_count": 3,
   "metadata": {
    "id": "xYpianTTk8Rp"
   },
   "outputs": [],
   "source": [
    "DATA_DIR = \"data\""
   ]
  },
  {
   "cell_type": "code",
   "execution_count": 4,
   "metadata": {
    "id": "Hd9fZ3gOhEs1"
   },
   "outputs": [],
   "source": [
    "!mkdir {DATA_DIR}"
   ]
  },
  {
   "cell_type": "code",
   "execution_count": 5,
   "metadata": {
    "colab": {
     "base_uri": "https://localhost:8080/"
    },
    "id": "lVMIRHNShGR6",
    "outputId": "604531f2-2aec-49ed-9e48-e9955b4bf8e2"
   },
   "outputs": [
    {
     "name": "stdout",
     "output_type": "stream",
     "text": [
      "  % Total    % Received % Xferd  Average Speed   Time    Time     Time  Current\n",
      "                                 Dload  Upload   Total   Spent    Left  Speed\n",
      "100 54421  100 54421    0     0   492k      0 --:--:-- --:--:-- --:--:--  492k\n"
     ]
    }
   ],
   "source": [
    "!curl -o {DATA_DIR}/data.csv https://raw.githubusercontent.com/embarced/notebooks/master/mlops/insurance-customers-risk-1500.csv"
   ]
  },
  {
   "cell_type": "code",
   "execution_count": 6,
   "metadata": {
    "colab": {
     "base_uri": "https://localhost:8080/"
    },
    "id": "1U-Fmy9Xj9UY",
    "outputId": "acc05580-a75e-4258-82a3-78e4ce00db24"
   },
   "outputs": [
    {
     "name": "stdout",
     "output_type": "stream",
     "text": [
      "total 56\r\n",
      "-rw-r--r-- 1 olli olli 54421 Oct 26 17:11 data.csv\r\n"
     ]
    }
   ],
   "source": [
    "!ls -l data"
   ]
  },
  {
   "cell_type": "code",
   "execution_count": 7,
   "metadata": {
    "colab": {
     "base_uri": "https://localhost:8080/"
    },
    "id": "JMovZLm5JMJq",
    "outputId": "e9a21f4b-a040-4ffc-a09a-b884a2482178"
   },
   "outputs": [
    {
     "name": "stdout",
     "output_type": "stream",
     "text": [
      "speed,age,miles,group,risk\r\n",
      "97.0,44.0,30.0,1,0.5976112279191053\r\n",
      "135.0,63.0,29.0,1,0.4527103520003165\r\n",
      "111.0,26.0,34.0,0,0.750233962021037\r\n",
      "97.0,25.0,10.0,1,0.32524900971290915\r\n",
      "114.0,38.0,22.0,2,0.26973096398543817\r\n",
      "130.0,55.0,34.0,0,0.5871633471963134\r\n",
      "118.0,40.0,51.0,0,0.8753213424169751\r\n",
      "143.0,42.0,34.0,2,0.23665405507569381\r\n",
      "110.0,43.0,31.0,2,0.0\r\n"
     ]
    }
   ],
   "source": [
    "!head {DATA_DIR}/data.csv"
   ]
  },
  {
   "cell_type": "code",
   "execution_count": 8,
   "metadata": {
    "colab": {
     "base_uri": "https://localhost:8080/"
    },
    "id": "PTy4Ubzo2ZtX",
    "outputId": "1caad6ac-19a7-42ce-ae18-51c5fa71fec3"
   },
   "outputs": [
    {
     "name": "stdout",
     "output_type": "stream",
     "text": [
      "total 12724\r\n",
      "-rw-r--r-- 1 olli olli 1431909 Oct 24 18:13 1_mlops_train.ipynb\r\n",
      "-rw-r--r-- 1 olli olli  175325 Oct 26 16:55 2_mlops_serve.ipynb\r\n",
      "-rw-r--r-- 1 olli olli 1686560 Oct 26 17:09 3_mlops_shift.ipynb\r\n",
      "-rw-r--r-- 1 olli olli      50 Oct 26 16:56 3_mlops_shift.ipynb:Zone.Identifier\r\n",
      "-rw-r--r-- 1 olli olli   36115 Oct 26 16:57 4_mlops_tfx.ipynb\r\n",
      "-rw-r--r-- 1 olli olli      50 Oct 26 16:57 4_mlops_tfx.ipynb:Zone.Identifier\r\n",
      "-rw-r--r-- 1 olli olli   39190 Oct 26 16:57 5_mlops_tfx_ext.ipynb\r\n",
      "-rw-r--r-- 1 olli olli      50 Oct 26 16:57 5_mlops_tfx_ext.ipynb:Zone.Identifier\r\n",
      "drwxr-xr-x 4 olli olli    4096 Oct 24 17:34 classifier\r\n",
      "-rw-r--r-- 1 olli olli 3130024 Oct 26 17:09 classifier.h5\r\n",
      "-rw-r--r-- 1 olli olli 2892775 Oct 24 17:34 classifier.tgz\r\n",
      "drwxr-xr-x 2 olli olli    4096 Oct 26 17:11 data\r\n",
      "-rw-r--r-- 1 olli olli 2110237 Aug 14 20:29 generate.ipynb\r\n",
      "drwxr-xr-x 3 olli olli    4096 Oct 24 18:42 insurance\r\n",
      "-rw-r--r-- 1 olli olli   54500 Aug 14 20:29 insurance-customers-risk-1500-shift.csv\r\n",
      "-rw-r--r-- 1 olli olli   54435 Aug 14 20:29 insurance-customers-risk-1500-test.csv\r\n",
      "-rw-r--r-- 1 olli olli   54421 Aug 14 20:29 insurance-customers-risk-1500.csv\r\n",
      "-rw-r--r-- 1 olli olli   84726 Oct 26 16:53 model.png\r\n",
      "-rw-r--r-- 1 olli olli 1225551 Aug 14 20:29 train.ipynb\r\n"
     ]
    }
   ],
   "source": [
    "!ls -l"
   ]
  },
  {
   "cell_type": "code",
   "execution_count": 9,
   "metadata": {
    "id": "-2-G4zPw2oGq"
   },
   "outputs": [],
   "source": [
    "_trainer_module_file = 'trainer.py'"
   ]
  },
  {
   "cell_type": "code",
   "execution_count": 10,
   "metadata": {
    "colab": {
     "base_uri": "https://localhost:8080/"
    },
    "id": "nOUodcze2qUK",
    "outputId": "18a6c87a-e03e-40f2-e77e-90fd2e8cb1ea"
   },
   "outputs": [
    {
     "name": "stdout",
     "output_type": "stream",
     "text": [
      "Writing trainer.py\n"
     ]
    }
   ],
   "source": [
    "%%writefile {_trainer_module_file}\n",
    "\n",
    "from tensorflow.keras.layers import InputLayer, Dense, Dropout, \\\n",
    "                                    BatchNormalization, Activation,\\\n",
    "                                    Input, concatenate\n",
    "from typing import List\n",
    "from absl import logging\n",
    "import tensorflow as tf\n",
    "from tensorflow import keras\n",
    "from tensorflow_transform.tf_metadata import schema_utils\n",
    "\n",
    "from tfx import v1 as tfx\n",
    "from tfx_bsl.public import tfxio\n",
    "from tensorflow_metadata.proto.v0 import schema_pb2\n",
    "\n",
    "_FEATURE_KEYS = ['age', 'speed']\n",
    "_LABEL_KEY = 'group'\n",
    "\n",
    "_TRAIN_BATCH_SIZE = 32\n",
    "_EVAL_BATCH_SIZE = 32\n",
    "\n",
    "# Since we're not generating or creating a schema, we will instead create\n",
    "# a feature spec.  Since there are a fairly small number of features this is\n",
    "# manageable for this dataset.\n",
    "_FEATURE_SPEC = {\n",
    "    **{\n",
    "        feature: tf.io.FixedLenFeature(shape=[1], dtype=tf.float32)\n",
    "           for feature in _FEATURE_KEYS\n",
    "       },\n",
    "    _LABEL_KEY: tf.io.FixedLenFeature(shape=[1], dtype=tf.int64)\n",
    "}\n",
    "\n",
    "num_features = len(_FEATURE_KEYS)\n",
    "dropout = 0.5\n",
    "\n",
    "def _input_fn(file_pattern: List[str],\n",
    "              data_accessor: tfx.components.DataAccessor,\n",
    "              schema: schema_pb2.Schema,\n",
    "              batch_size: int = 200) -> tf.data.Dataset:\n",
    "  \"\"\"Generates features and label for training.\n",
    "\n",
    "  Args:\n",
    "    file_pattern: List of paths or patterns of input tfrecord files.\n",
    "    data_accessor: DataAccessor for converting input to RecordBatch.\n",
    "    schema: schema of the input data.\n",
    "    batch_size: representing the number of consecutive elements of returned\n",
    "      dataset to combine in a single batch\n",
    "\n",
    "  Returns:\n",
    "    A dataset that contains (features, indices) tuple where features is a\n",
    "      dictionary of Tensors, and indices is a single Tensor of label indices.\n",
    "  \"\"\"\n",
    "  return data_accessor.tf_dataset_factory(\n",
    "      file_pattern,\n",
    "      tfxio.TensorFlowDatasetOptions(\n",
    "          batch_size=batch_size, label_key=_LABEL_KEY),\n",
    "      schema=schema).repeat()\n",
    "\n",
    "\n",
    "def _build_keras_model() -> tf.keras.Model:\n",
    "  \"\"\"Creates a DNN Keras model for classifying penguin data.\n",
    "\n",
    "  Returns:\n",
    "    A Keras Model.\n",
    "  \"\"\"\n",
    "\n",
    "  inputs = [keras.layers.Input(shape=(1,), name=f) for f in _FEATURE_KEYS]\n",
    "  d = keras.layers.concatenate(inputs)\n",
    "  for _ in range(2):\n",
    "    d = Dense(500)(d)\n",
    "    d = Activation('relu')(d)\n",
    "    d = BatchNormalization()(d)\n",
    "    d = Dropout(dropout)(d)\n",
    "\n",
    "  outputs = Dense(name='output', units=3, activation='softmax')(d)\n",
    "\n",
    "  model = keras.Model(inputs=inputs, outputs=outputs)\n",
    "\n",
    "  model.compile(\n",
    "      optimizer=keras.optimizers.Adam(),\n",
    "      loss=tf.keras.losses.SparseCategoricalCrossentropy(from_logits=True),\n",
    "      metrics=[keras.metrics.SparseCategoricalAccuracy()])\n",
    "\n",
    "  model.summary(print_fn=logging.info)\n",
    "  return model\n",
    "\n",
    "\n",
    "# TFX Trainer will call this function.\n",
    "def run_fn(fn_args: tfx.components.FnArgs):\n",
    "  \"\"\"Train the model based on given args.\n",
    "\n",
    "  Args:\n",
    "    fn_args: Holds args used to train the model as name/value pairs.\n",
    "  \"\"\"\n",
    "\n",
    "  # This schema is usually either an output of SchemaGen or a manually-curated\n",
    "  # version provided by pipeline author. A schema can also derived from TFT\n",
    "  # graph if a Transform component is used. In the case when either is missing,\n",
    "  # `schema_from_feature_spec` could be used to generate schema from very simple\n",
    "  # feature_spec, but the schema returned would be very primitive.\n",
    "  schema = schema_utils.schema_from_feature_spec(_FEATURE_SPEC)\n",
    "\n",
    "  train_dataset = _input_fn(\n",
    "      fn_args.train_files,\n",
    "      fn_args.data_accessor,\n",
    "      schema,\n",
    "      batch_size=_TRAIN_BATCH_SIZE)\n",
    "  eval_dataset = _input_fn(\n",
    "      fn_args.eval_files,\n",
    "      fn_args.data_accessor,\n",
    "      schema,\n",
    "      batch_size=_EVAL_BATCH_SIZE)\n",
    "\n",
    "  model = _build_keras_model()\n",
    "\n",
    "  model.fit(\n",
    "      train_dataset,\n",
    "      steps_per_epoch=fn_args.train_steps,\n",
    "      validation_data=eval_dataset,\n",
    "      validation_steps=fn_args.eval_steps)\n",
    "\n",
    "  # The result of the training should be saved in `fn_args.serving_model_dir`\n",
    "  # directory.\n",
    "  model.save(fn_args.serving_model_dir, save_format='tf')"
   ]
  },
  {
   "cell_type": "code",
   "execution_count": null,
   "metadata": {
    "id": "rXeTQ4ExiHf_"
   },
   "outputs": [],
   "source": [
    "# !cat trainer.py"
   ]
  },
  {
   "cell_type": "code",
   "execution_count": 11,
   "metadata": {
    "colab": {
     "base_uri": "https://localhost:8080/"
    },
    "id": "k_-248z3Vl6W",
    "outputId": "03e8b390-1c95-4747-af66-e0b9216ee625"
   },
   "outputs": [
    {
     "data": {
      "text/plain": [
       "781.25"
      ]
     },
     "execution_count": 11,
     "metadata": {},
     "output_type": "execute_result"
    }
   ],
   "source": [
    "# train:eval 2:1\n",
    "# epoch = 1\n",
    "# examples = 500\n",
    "epoch = 100\n",
    "examples = 1000\n",
    "steps = (epoch * examples)/128\n",
    "steps"
   ]
  },
  {
   "cell_type": "code",
   "execution_count": 12,
   "metadata": {
    "id": "sqOMX7EU7-Ec"
   },
   "outputs": [],
   "source": [
    "def _create_pipeline(pipeline_name: str, pipeline_root: str, data_root: str,\n",
    "                     module_file: str, serving_model_dir: str,\n",
    "                     metadata_path: str) -> tfx.dsl.Pipeline:\n",
    "  \"\"\"Creates a three component penguin pipeline with TFX.\"\"\"\n",
    "  # Brings data into the pipeline.\n",
    "  example_gen = tfx.components.CsvExampleGen(input_base=data_root)\n",
    "\n",
    "  # Uses user-provided Python function that trains a model.\n",
    "  trainer = tfx.components.Trainer(\n",
    "      module_file=module_file,\n",
    "      examples=example_gen.outputs['examples'],\n",
    "      train_args=tfx.proto.TrainArgs(num_steps=5000),\n",
    "      eval_args=tfx.proto.EvalArgs(num_steps=15))\n",
    "\n",
    "  # Pushes the model to a filesystem destination.\n",
    "  pusher = tfx.components.Pusher(\n",
    "      model=trainer.outputs['model'],\n",
    "      push_destination=tfx.proto.PushDestination(\n",
    "          filesystem=tfx.proto.PushDestination.Filesystem(\n",
    "              base_directory=serving_model_dir)))\n",
    "\n",
    "  # Following three components will be included in the pipeline.\n",
    "  components = [\n",
    "      example_gen,\n",
    "      trainer,\n",
    "      pusher,\n",
    "  ]\n",
    "\n",
    "  return tfx.dsl.Pipeline(\n",
    "      pipeline_name=pipeline_name,\n",
    "      pipeline_root=pipeline_root,\n",
    "      metadata_connection_config=tfx.orchestration.metadata\n",
    "      .sqlite_metadata_connection_config(metadata_path),\n",
    "      components=components)"
   ]
  },
  {
   "cell_type": "code",
   "execution_count": 13,
   "metadata": {
    "colab": {
     "base_uri": "https://localhost:8080/"
    },
    "id": "rjHiypa7_HJu",
    "outputId": "410017fe-64c3-4826-afb8-87fc809ad3d8"
   },
   "outputs": [
    {
     "data": {
      "text/plain": [
       "<tfx.orchestration.pipeline.Pipeline at 0x7f3bc565d610>"
      ]
     },
     "execution_count": 13,
     "metadata": {},
     "output_type": "execute_result"
    }
   ],
   "source": [
    "pipeline = _create_pipeline(\n",
    "      pipeline_name='insurance-basic',\n",
    "      pipeline_root='pipeline',\n",
    "      data_root=DATA_DIR,\n",
    "      module_file=_trainer_module_file,\n",
    "      serving_model_dir='model',\n",
    "      metadata_path='metadata.db')\n",
    "pipeline"
   ]
  },
  {
   "cell_type": "code",
   "execution_count": 20,
   "metadata": {
    "colab": {
     "base_uri": "https://localhost:8080/",
     "height": 224
    },
    "id": "W1Y3xE-C_PFO",
    "outputId": "a1b97c2a-b287-4a83-b0bb-3eb0953859ec"
   },
   "outputs": [
    {
     "name": "stderr",
     "output_type": "stream",
     "text": [
      "WARNING:root:Make sure that locally built Python SDK docker image has Python 3.8 interpreter.\n",
      "/home/olli/anaconda3/envs/tfx/lib/python3.8/site-packages/keras/backend.py:4906: UserWarning: \"`sparse_categorical_crossentropy` received `from_logits=True`, but the `output` argument was produced by a sigmoid or softmax activation and thus does not represent logits. Was this intended?\"\n",
      "  warnings.warn(\n"
     ]
    },
    {
     "name": "stdout",
     "output_type": "stream",
     "text": [
      "5000/5000 [==============================] - 30s 6ms/step - loss: 0.8414 - sparse_categorical_accuracy: 0.6320 - val_loss: 0.6679 - val_sparse_categorical_accuracy: 0.7271\n",
      "INFO:tensorflow:Assets written to: pipeline/Trainer/model/5/Format-Serving/assets\n"
     ]
    },
    {
     "name": "stderr",
     "output_type": "stream",
     "text": [
      "INFO:tensorflow:Assets written to: pipeline/Trainer/model/5/Format-Serving/assets\n",
      "WARNING:absl:Pusher is going to push the model without validation. Consider using Evaluator or InfraValidator in your pipeline.\n"
     ]
    },
    {
     "name": "stdout",
     "output_type": "stream",
     "text": [
      "CPU times: user 39.8 s, sys: 18.1 s, total: 57.9 s\n",
      "Wall time: 36.4 s\n"
     ]
    }
   ],
   "source": [
    "%%time \n",
    "\n",
    "tfx.orchestration.LocalDagRunner().run(pipeline)"
   ]
  },
  {
   "cell_type": "code",
   "execution_count": 15,
   "metadata": {
    "colab": {
     "base_uri": "https://localhost:8080/"
    },
    "id": "iLowvaLufwC4",
    "outputId": "38c36bcb-40a5-4f25-c4c1-1fe47cff3fa4"
   },
   "outputs": [
    {
     "name": "stdout",
     "output_type": "stream",
     "text": [
      "total 16\r\n",
      "drwxr-xr-x 4 olli olli 4096 Oct 26 17:17 CsvExampleGen\r\n",
      "drwxr-xr-x 4 olli olli 4096 Oct 26 17:17 Pusher\r\n",
      "drwxr-xr-x 5 olli olli 4096 Oct 26 17:17 Trainer\r\n",
      "drwxr-xr-x 2 olli olli 4096 Oct 26 17:17 _wheels\r\n"
     ]
    }
   ],
   "source": [
    "!ls -l pipeline"
   ]
  },
  {
   "cell_type": "code",
   "execution_count": 16,
   "metadata": {
    "colab": {
     "base_uri": "https://localhost:8080/"
    },
    "id": "Izmu3HWDf5Ho",
    "outputId": "6cf94f1d-850a-4ab7-af0f-353813836f5b"
   },
   "outputs": [
    {
     "name": "stdout",
     "output_type": "stream",
     "text": [
      "pipeline\r\n",
      "pipeline/Trainer\r\n",
      "pipeline/Trainer/model_run\r\n",
      "pipeline/Trainer/model_run/2\r\n",
      "pipeline/Trainer/model\r\n",
      "pipeline/Trainer/model/2\r\n",
      "pipeline/Trainer/model/2/Format-Serving\r\n",
      "pipeline/Trainer/model/2/Format-Serving/keras_metadata.pb\r\n",
      "pipeline/Trainer/model/2/Format-Serving/saved_model.pb\r\n",
      "pipeline/Trainer/model/2/Format-Serving/assets\r\n",
      "pipeline/Trainer/model/2/Format-Serving/variables\r\n",
      "pipeline/Trainer/model/2/Format-Serving/variables/variables.index\r\n",
      "pipeline/Trainer/model/2/Format-Serving/variables/variables.data-00000-of-00001\r\n",
      "pipeline/Trainer/.system\r\n",
      "pipeline/Trainer/.system/executor_execution\r\n",
      "pipeline/Trainer/.system/executor_execution/2\r\n",
      "pipeline/CsvExampleGen\r\n",
      "pipeline/CsvExampleGen/examples\r\n",
      "pipeline/CsvExampleGen/examples/1\r\n",
      "pipeline/CsvExampleGen/examples/1/Split-eval\r\n",
      "pipeline/CsvExampleGen/examples/1/Split-eval/data_tfrecord-00000-of-00001.gz\r\n",
      "pipeline/CsvExampleGen/examples/1/Split-train\r\n",
      "pipeline/CsvExampleGen/examples/1/Split-train/data_tfrecord-00000-of-00001.gz\r\n",
      "pipeline/CsvExampleGen/.system\r\n",
      "pipeline/CsvExampleGen/.system/executor_execution\r\n",
      "pipeline/CsvExampleGen/.system/executor_execution/1\r\n",
      "pipeline/CsvExampleGen/.system/driver_execution\r\n",
      "pipeline/CsvExampleGen/.system/driver_execution/1635261421300210\r\n",
      "pipeline/_wheels\r\n",
      "pipeline/_wheels/tfx_user_code_Trainer-0.0+fb919ceda3531b17a42b3cacf7acdd239f104d6979bac3a18b62764c0546866b-py3-none-any.whl\r\n",
      "pipeline/Pusher\r\n",
      "pipeline/Pusher/pushed_model\r\n",
      "pipeline/Pusher/pushed_model/3\r\n",
      "pipeline/Pusher/pushed_model/3/keras_metadata.pb\r\n",
      "pipeline/Pusher/pushed_model/3/saved_model.pb\r\n",
      "pipeline/Pusher/pushed_model/3/assets\r\n",
      "pipeline/Pusher/pushed_model/3/variables\r\n",
      "pipeline/Pusher/pushed_model/3/variables/variables.index\r\n",
      "pipeline/Pusher/pushed_model/3/variables/variables.data-00000-of-00001\r\n",
      "pipeline/Pusher/.system\r\n",
      "pipeline/Pusher/.system/executor_execution\r\n",
      "pipeline/Pusher/.system/executor_execution/3\r\n"
     ]
    }
   ],
   "source": [
    "!find pipeline"
   ]
  },
  {
   "cell_type": "code",
   "execution_count": 17,
   "metadata": {
    "colab": {
     "base_uri": "https://localhost:8080/"
    },
    "id": "NTHROkqX6yHx",
    "outputId": "19e2c76b-6e6b-4d18-ba44-66e695f964f2"
   },
   "outputs": [
    {
     "name": "stdout",
     "output_type": "stream",
     "text": [
      "model\r\n",
      "model/1635261467\r\n",
      "model/1635261467/keras_metadata.pb\r\n",
      "model/1635261467/saved_model.pb\r\n",
      "model/1635261467/assets\r\n",
      "model/1635261467/variables\r\n",
      "model/1635261467/variables/variables.index\r\n",
      "model/1635261467/variables/variables.data-00000-of-00001\r\n"
     ]
    }
   ],
   "source": [
    "# List files in created model directory.\n",
    "!find model"
   ]
  },
  {
   "cell_type": "code",
   "execution_count": 18,
   "metadata": {
    "colab": {
     "base_uri": "https://localhost:8080/"
    },
    "id": "FYyE8FN9Sk1i",
    "outputId": "c7db8fbd-412e-4ade-9224-25645697e09a"
   },
   "outputs": [
    {
     "name": "stdout",
     "output_type": "stream",
     "text": [
      "total 12884\r\n",
      "-rw-r--r-- 1 olli olli 1431909 Oct 24 18:13 1_mlops_train.ipynb\r\n",
      "-rw-r--r-- 1 olli olli  175325 Oct 26 16:55 2_mlops_serve.ipynb\r\n",
      "-rw-r--r-- 1 olli olli 1686560 Oct 26 17:09 3_mlops_shift.ipynb\r\n",
      "-rw-r--r-- 1 olli olli   23739 Oct 26 17:22 4_mlops_tfx.ipynb\r\n",
      "-rw-r--r-- 1 olli olli   39190 Oct 26 16:57 5_mlops_tfx_ext.ipynb\r\n",
      "drwxr-xr-x 2 olli olli    4096 Oct 26 17:17 __pycache__\r\n",
      "drwxr-xr-x 4 olli olli    4096 Oct 24 17:34 classifier\r\n",
      "-rw-r--r-- 1 olli olli 3130024 Oct 26 17:09 classifier.h5\r\n",
      "-rw-r--r-- 1 olli olli 2892775 Oct 24 17:34 classifier.tgz\r\n",
      "drwxr-xr-x 2 olli olli    4096 Oct 26 17:11 data\r\n",
      "-rw-r--r-- 1 olli olli 2110237 Aug 14 20:29 generate.ipynb\r\n",
      "drwxr-xr-x 3 olli olli    4096 Oct 24 18:42 insurance\r\n",
      "-rw-r--r-- 1 olli olli   54500 Aug 14 20:29 insurance-customers-risk-1500-shift.csv\r\n",
      "-rw-r--r-- 1 olli olli   54435 Aug 14 20:29 insurance-customers-risk-1500-test.csv\r\n",
      "-rw-r--r-- 1 olli olli   54421 Aug 14 20:29 insurance-customers-risk-1500.csv\r\n",
      "-rw-r--r-- 1 olli olli  172032 Oct 26 17:17 metadata.db\r\n",
      "drwxr-xr-x 3 olli olli    4096 Oct 26 17:17 model\r\n",
      "-rw-r--r-- 1 olli olli   84726 Oct 26 16:53 model.png\r\n",
      "drwxr-xr-x 6 olli olli    4096 Oct 26 17:17 pipeline\r\n",
      "-rw-r--r-- 1 olli olli 1225551 Aug 14 20:29 train.ipynb\r\n",
      "-rw-r--r-- 1 olli olli    3944 Oct 26 17:11 trainer.py\r\n"
     ]
    }
   ],
   "source": [
    "!ls -l"
   ]
  }
 ],
 "metadata": {
  "colab": {
   "collapsed_sections": [],
   "name": "4-mlops-tfx.ipynb",
   "provenance": []
  },
  "kernelspec": {
   "display_name": "Python 3",
   "language": "python",
   "name": "python3"
  },
  "language_info": {
   "codemirror_mode": {
    "name": "ipython",
    "version": 3
   },
   "file_extension": ".py",
   "mimetype": "text/x-python",
   "name": "python",
   "nbconvert_exporter": "python",
   "pygments_lexer": "ipython3",
   "version": "3.8.8"
  }
 },
 "nbformat": 4,
 "nbformat_minor": 1
}
